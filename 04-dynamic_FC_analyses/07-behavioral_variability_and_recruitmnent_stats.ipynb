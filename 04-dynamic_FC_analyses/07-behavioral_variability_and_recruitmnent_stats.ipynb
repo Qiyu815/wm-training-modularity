{
 "cells": [
  {
   "cell_type": "markdown",
   "metadata": {},
   "source": [
    "# **Working memory training**: correlating behavioral variability with performance\n"
   ]
  },
  {
   "cell_type": "code",
   "execution_count": 6,
   "metadata": {},
   "outputs": [],
   "source": [
    "library(\"tidyverse\")\n",
    "setwd(\"~/Dropbox/Projects/LearningBrain/\")\n",
    "\n",
    "performance_variability <- read.csv('data/behavioral/WM_fmri_behaviour_variability_tidy.csv')\n",
    "networks_recruitment <- read.csv('data/neuroimaging/03-modularity/dynamic/04-recruitment_integration//whole-brain_power_normalized_rectuitment_tidy.csv')"
   ]
  },
  {
   "cell_type": "code",
   "execution_count": 7,
   "metadata": {},
   "outputs": [
    {
     "data": {
      "text/html": [
       "<table>\n",
       "<thead><tr><th scope=col>Subject</th><th scope=col>Session</th><th scope=col>Group</th><th scope=col>Network</th><th scope=col>Recruitment</th></tr></thead>\n",
       "<tbody>\n",
       "\t<tr><td>sub-01  </td><td>Naive   </td><td>Control </td><td>AU      </td><td>1.116162</td></tr>\n",
       "\t<tr><td>sub-01  </td><td>Naive   </td><td>Control </td><td>CER     </td><td>1.221085</td></tr>\n",
       "\t<tr><td>sub-01  </td><td>Naive   </td><td>Control </td><td>CO      </td><td>1.135295</td></tr>\n",
       "\t<tr><td>sub-01  </td><td>Naive   </td><td>Control </td><td>DA      </td><td>1.081438</td></tr>\n",
       "\t<tr><td>sub-01  </td><td>Naive   </td><td>Control </td><td>DM      </td><td>1.092354</td></tr>\n",
       "\t<tr><td>sub-01  </td><td>Naive   </td><td>Control </td><td>FP      </td><td>1.273885</td></tr>\n",
       "</tbody>\n",
       "</table>\n"
      ],
      "text/latex": [
       "\\begin{tabular}{r|lllll}\n",
       " Subject & Session & Group & Network & Recruitment\\\\\n",
       "\\hline\n",
       "\t sub-01   & Naive    & Control  & AU       & 1.116162\\\\\n",
       "\t sub-01   & Naive    & Control  & CER      & 1.221085\\\\\n",
       "\t sub-01   & Naive    & Control  & CO       & 1.135295\\\\\n",
       "\t sub-01   & Naive    & Control  & DA       & 1.081438\\\\\n",
       "\t sub-01   & Naive    & Control  & DM       & 1.092354\\\\\n",
       "\t sub-01   & Naive    & Control  & FP       & 1.273885\\\\\n",
       "\\end{tabular}\n"
      ],
      "text/markdown": [
       "\n",
       "Subject | Session | Group | Network | Recruitment | \n",
       "|---|---|---|---|---|---|\n",
       "| sub-01   | Naive    | Control  | AU       | 1.116162 | \n",
       "| sub-01   | Naive    | Control  | CER      | 1.221085 | \n",
       "| sub-01   | Naive    | Control  | CO       | 1.135295 | \n",
       "| sub-01   | Naive    | Control  | DA       | 1.081438 | \n",
       "| sub-01   | Naive    | Control  | DM       | 1.092354 | \n",
       "| sub-01   | Naive    | Control  | FP       | 1.273885 | \n",
       "\n",
       "\n"
      ],
      "text/plain": [
       "  Subject Session Group   Network Recruitment\n",
       "1 sub-01  Naive   Control AU      1.116162   \n",
       "2 sub-01  Naive   Control CER     1.221085   \n",
       "3 sub-01  Naive   Control CO      1.135295   \n",
       "4 sub-01  Naive   Control DA      1.081438   \n",
       "5 sub-01  Naive   Control DM      1.092354   \n",
       "6 sub-01  Naive   Control FP      1.273885   "
      ]
     },
     "metadata": {},
     "output_type": "display_data"
    }
   ],
   "source": [
    "head(networks_recruitment)"
   ]
  },
  {
   "cell_type": "code",
   "execution_count": 8,
   "metadata": {},
   "outputs": [
    {
     "data": {
      "text/html": [
       "<table>\n",
       "<thead><tr><th scope=col>Subject</th><th scope=col>Session</th><th scope=col>Accuracy_std</th><th scope=col>pRT_std</th><th scope=col>Dprime_std</th><th scope=col>Group</th></tr></thead>\n",
       "<tbody>\n",
       "\t<tr><td>sub-01    </td><td>Naive     </td><td>0.14409680</td><td>247.9006  </td><td>0.8829726 </td><td>Control   </td></tr>\n",
       "\t<tr><td>sub-01    </td><td>Naive     </td><td>0.10000000</td><td>210.0876  </td><td>0.5344575 </td><td>Control   </td></tr>\n",
       "\t<tr><td>sub-01    </td><td>Early     </td><td>0.13844373</td><td>183.4413  </td><td>0.7998220 </td><td>Control   </td></tr>\n",
       "\t<tr><td>sub-01    </td><td>Early     </td><td>0.11666667</td><td>155.0257  </td><td>0.8416775 </td><td>Control   </td></tr>\n",
       "\t<tr><td>sub-02    </td><td>Middle    </td><td>0.19913005</td><td>238.7242  </td><td>1.1430880 </td><td>Control   </td></tr>\n",
       "\t<tr><td>sub-02    </td><td>Middle    </td><td>0.08164966</td><td>160.8744  </td><td>0.5703609 </td><td>Control   </td></tr>\n",
       "</tbody>\n",
       "</table>\n"
      ],
      "text/latex": [
       "\\begin{tabular}{r|llllll}\n",
       " Subject & Session & Accuracy\\_std & pRT\\_std & Dprime\\_std & Group\\\\\n",
       "\\hline\n",
       "\t sub-01     & Naive      & 0.14409680 & 247.9006   & 0.8829726  & Control   \\\\\n",
       "\t sub-01     & Naive      & 0.10000000 & 210.0876   & 0.5344575  & Control   \\\\\n",
       "\t sub-01     & Early      & 0.13844373 & 183.4413   & 0.7998220  & Control   \\\\\n",
       "\t sub-01     & Early      & 0.11666667 & 155.0257   & 0.8416775  & Control   \\\\\n",
       "\t sub-02     & Middle     & 0.19913005 & 238.7242   & 1.1430880  & Control   \\\\\n",
       "\t sub-02     & Middle     & 0.08164966 & 160.8744   & 0.5703609  & Control   \\\\\n",
       "\\end{tabular}\n"
      ],
      "text/markdown": [
       "\n",
       "Subject | Session | Accuracy_std | pRT_std | Dprime_std | Group | \n",
       "|---|---|---|---|---|---|\n",
       "| sub-01     | Naive      | 0.14409680 | 247.9006   | 0.8829726  | Control    | \n",
       "| sub-01     | Naive      | 0.10000000 | 210.0876   | 0.5344575  | Control    | \n",
       "| sub-01     | Early      | 0.13844373 | 183.4413   | 0.7998220  | Control    | \n",
       "| sub-01     | Early      | 0.11666667 | 155.0257   | 0.8416775  | Control    | \n",
       "| sub-02     | Middle     | 0.19913005 | 238.7242   | 1.1430880  | Control    | \n",
       "| sub-02     | Middle     | 0.08164966 | 160.8744   | 0.5703609  | Control    | \n",
       "\n",
       "\n"
      ],
      "text/plain": [
       "  Subject Session Accuracy_std pRT_std  Dprime_std Group  \n",
       "1 sub-01  Naive   0.14409680   247.9006 0.8829726  Control\n",
       "2 sub-01  Naive   0.10000000   210.0876 0.5344575  Control\n",
       "3 sub-01  Early   0.13844373   183.4413 0.7998220  Control\n",
       "4 sub-01  Early   0.11666667   155.0257 0.8416775  Control\n",
       "5 sub-02  Middle  0.19913005   238.7242 1.1430880  Control\n",
       "6 sub-02  Middle  0.08164966   160.8744 0.5703609  Control"
      ]
     },
     "metadata": {},
     "output_type": "display_data"
    }
   ],
   "source": [
    "head(performance_variability)"
   ]
  },
  {
   "cell_type": "code",
   "execution_count": 9,
   "metadata": {},
   "outputs": [],
   "source": [
    "dualnback_exclude = c('sub-13', 'sub-21', 'sub-23', 'sub-50') # higly motion subjects in one of four sessions\n",
    "\n",
    "performance_variability <- performance_variability %>% filter(!(Subject %in% dualnback_exclude))\n",
    "networks_recruitment <- networks_recruitment %>% filter(!(Subject %in% dualnback_exclude))"
   ]
  },
  {
   "cell_type": "code",
   "execution_count": 11,
   "metadata": {},
   "outputs": [
    {
     "name": "stderr",
     "output_type": "stream",
     "text": [
      "Warning message in Ops.factor(left, right):\n",
      "“‘-’ not meaningful for factors”Warning message in Ops.factor(left, right):\n",
      "“‘-’ not meaningful for factors”Warning message in Ops.factor(left, right):\n",
      "“‘-’ not meaningful for factors”"
     ]
    }
   ],
   "source": [
    "performance_variability_diff <- performance_variability[performance_variability$Session=='Naive',] - \n",
    "                                performance_variability[performance_variability$Session=='Early',]"
   ]
  },
  {
   "cell_type": "code",
   "execution_count": 12,
   "metadata": {},
   "outputs": [
    {
     "name": "stdout",
     "output_type": "stream",
     "text": [
      "[1] \"AU\"\n",
      "\n",
      "\tPearson's product-moment correlation\n",
      "\n",
      "data:  performance_variability_diff$Dprime_std and recritment_diff\n",
      "t = 0.55517, df = 40, p-value = 0.5819\n",
      "alternative hypothesis: true correlation is not equal to 0\n",
      "95 percent confidence interval:\n",
      " -0.2223980  0.3812431\n",
      "sample estimates:\n",
      "     cor \n",
      "0.087444 \n",
      "\n",
      "[1] \"CER\"\n",
      "\n",
      "\tPearson's product-moment correlation\n",
      "\n",
      "data:  performance_variability_diff$Dprime_std and recritment_diff\n",
      "t = 0.074755, df = 40, p-value = 0.9408\n",
      "alternative hypothesis: true correlation is not equal to 0\n",
      "95 percent confidence interval:\n",
      " -0.2931654  0.3146202\n",
      "sample estimates:\n",
      "       cor \n",
      "0.01181904 \n",
      "\n",
      "[1] \"CO\"\n",
      "\n",
      "\tPearson's product-moment correlation\n",
      "\n",
      "data:  performance_variability_diff$Dprime_std and recritment_diff\n",
      "t = 0.0035774, df = 40, p-value = 0.9972\n",
      "alternative hypothesis: true correlation is not equal to 0\n",
      "95 percent confidence interval:\n",
      " -0.3034179  0.3044447\n",
      "sample estimates:\n",
      "         cor \n",
      "0.0005656318 \n",
      "\n",
      "[1] \"DA\"\n",
      "\n",
      "\tPearson's product-moment correlation\n",
      "\n",
      "data:  performance_variability_diff$Dprime_std and recritment_diff\n",
      "t = 0.14896, df = 40, p-value = 0.8823\n",
      "alternative hypothesis: true correlation is not equal to 0\n",
      "95 percent confidence interval:\n",
      " -0.2824061  0.3251507\n",
      "sample estimates:\n",
      "       cor \n",
      "0.02354626 \n",
      "\n",
      "[1] \"DM\"\n",
      "\n",
      "\tPearson's product-moment correlation\n",
      "\n",
      "data:  performance_variability_diff$Dprime_std and recritment_diff\n",
      "t = -1.1084, df = 40, p-value = 0.2743\n",
      "alternative hypothesis: true correlation is not equal to 0\n",
      "95 percent confidence interval:\n",
      " -0.4527931  0.1385851\n",
      "sample estimates:\n",
      "      cor \n",
      "-0.172617 \n",
      "\n",
      "[1] \"FP\"\n",
      "\n",
      "\tPearson's product-moment correlation\n",
      "\n",
      "data:  performance_variability_diff$Dprime_std and recritment_diff\n",
      "t = 0.9665, df = 40, p-value = 0.3396\n",
      "alternative hypothesis: true correlation is not equal to 0\n",
      "95 percent confidence interval:\n",
      " -0.1602245  0.4350215\n",
      "sample estimates:\n",
      "      cor \n",
      "0.1510632 \n",
      "\n",
      "[1] \"MEM\"\n",
      "\n",
      "\tPearson's product-moment correlation\n",
      "\n",
      "data:  performance_variability_diff$Dprime_std and recritment_diff\n",
      "t = 1.2144, df = 40, p-value = 0.2317\n",
      "alternative hypothesis: true correlation is not equal to 0\n",
      "95 percent confidence interval:\n",
      " -0.1223695  0.4658093\n",
      "sample estimates:\n",
      "      cor \n",
      "0.1885753 \n",
      "\n",
      "[1] \"SAL\"\n",
      "\n",
      "\tPearson's product-moment correlation\n",
      "\n",
      "data:  performance_variability_diff$Dprime_std and recritment_diff\n",
      "t = 0.046404, df = 40, p-value = 0.9632\n",
      "alternative hypothesis: true correlation is not equal to 0\n",
      "95 percent confidence interval:\n",
      " -0.2972573  0.3105757\n",
      "sample estimates:\n",
      "        cor \n",
      "0.007336868 \n",
      "\n",
      "[1] \"SOM\"\n",
      "\n",
      "\tPearson's product-moment correlation\n",
      "\n",
      "data:  performance_variability_diff$Dprime_std and recritment_diff\n",
      "t = 2.368, df = 40, p-value = 0.02281\n",
      "alternative hypothesis: true correlation is not equal to 0\n",
      "95 percent confidence interval:\n",
      " 0.05227647 0.59152915\n",
      "sample estimates:\n",
      "      cor \n",
      "0.3506368 \n",
      "\n",
      "[1] \"SUB\"\n",
      "\n",
      "\tPearson's product-moment correlation\n",
      "\n",
      "data:  performance_variability_diff$Dprime_std and recritment_diff\n",
      "t = 2.2374, df = 40, p-value = 0.0309\n",
      "alternative hypothesis: true correlation is not equal to 0\n",
      "95 percent confidence interval:\n",
      " 0.03291685 0.57877559\n",
      "sample estimates:\n",
      "      cor \n",
      "0.3335116 \n",
      "\n",
      "[1] \"UNC\"\n",
      "\n",
      "\tPearson's product-moment correlation\n",
      "\n",
      "data:  performance_variability_diff$Dprime_std and recritment_diff\n",
      "t = -0.29908, df = 40, p-value = 0.7664\n",
      "alternative hypothesis: true correlation is not equal to 0\n",
      "95 percent confidence interval:\n",
      " -0.3461966  0.2604349\n",
      "sample estimates:\n",
      "        cor \n",
      "-0.04723538 \n",
      "\n",
      "[1] \"VA\"\n",
      "\n",
      "\tPearson's product-moment correlation\n",
      "\n",
      "data:  performance_variability_diff$Dprime_std and recritment_diff\n",
      "t = -0.14478, df = 40, p-value = 0.8856\n",
      "alternative hypothesis: true correlation is not equal to 0\n",
      "95 percent confidence interval:\n",
      " -0.3245598  0.2830139\n",
      "sample estimates:\n",
      "        cor \n",
      "-0.02288603 \n",
      "\n",
      "[1] \"VIS\"\n",
      "\n",
      "\tPearson's product-moment correlation\n",
      "\n",
      "data:  performance_variability_diff$Dprime_std and recritment_diff\n",
      "t = 0.25911, df = 40, p-value = 0.7969\n",
      "alternative hypothesis: true correlation is not equal to 0\n",
      "95 percent confidence interval:\n",
      " -0.2663102  0.3406279\n",
      "sample estimates:\n",
      "       cor \n",
      "0.04093439 \n",
      "\n"
     ]
    }
   ],
   "source": [
    "unique_networks = unique(networks_recruitment$Network)\n",
    "\n",
    "for (i in unique_networks){\n",
    "    \n",
    "    naive <- networks_recruitment %>% filter(Network==i) %>% filter(Session=='Naive')\n",
    "    early <- networks_recruitment %>% filter(Network==i) %>% filter(Session=='Early')\n",
    "    \n",
    "    recritment_diff <- early$Recruitment - naive$Recruitment\n",
    "    print(i)\n",
    "    #print(cor.test(performance_variability_diff$pRT_std, recritment_diff))\n",
    "    print(cor.test(performance_variability_diff$Dprime_std, recritment_diff))\n",
    "    \n",
    "}"
   ]
  }
 ],
 "metadata": {
  "kernelspec": {
   "display_name": "R",
   "language": "R",
   "name": "ir"
  },
  "language_info": {
   "codemirror_mode": "r",
   "file_extension": ".r",
   "mimetype": "text/x-r-source",
   "name": "R",
   "pygments_lexer": "r",
   "version": "3.4.4"
  }
 },
 "nbformat": 4,
 "nbformat_minor": 2
}
