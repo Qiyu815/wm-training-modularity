{
 "cells": [
  {
   "cell_type": "code",
   "execution_count": 1,
   "metadata": {},
   "outputs": [],
   "source": [
    "import matplotlib.pyplot as plt\n",
    "import pandas as pd\n",
    "import numpy as np"
   ]
  },
  {
   "cell_type": "markdown",
   "metadata": {},
   "source": [
    "Load and process input data. "
   ]
  },
  {
   "cell_type": "code",
   "execution_count": 145,
   "metadata": {},
   "outputs": [],
   "source": [
    "path_mat = '/home/kmb/Desktop/Neuroscience/Projects/FINC_learning_brain/data/derivatives/allegiance_matrix_power_dualnback_opt_mean.npy'\n",
    "path_power_labels = '/home/kmb/Desktop/Neuroscience/Projects/FINC_learning_brain/data/derivatives/module_assignment/modules.txt'\n",
    "\n",
    "mat = np.load(path_mat)\n",
    "\n",
    "with open(path_power_labels, 'r') as f:\n",
    "    power_labels = f.read()\n",
    "power_labels = power_labels.split('\\n')\n",
    "power_labels.sort()\n",
    "power_labels.remove('')\n",
    "\n",
    "unique_networks = sorted(list(set(power_labels))) \n",
    "\n",
    "power_labels_idx = []\n",
    "for label in power_labels:\n",
    "    power_labels_idx.append(unique_networks.index(label))\n",
    "    \n",
    "labels = np.array(power_labels_idx)"
   ]
  },
  {
   "cell_type": "code",
   "execution_count": 142,
   "metadata": {},
   "outputs": [],
   "source": [
    "def normalize_networks_mean(matrix, labels, n_iter):\n",
    "    '''...\n",
    "    \n",
    "    Args:\n",
    "        matrix: (264 x 264)\n",
    "        labels: (264, )\n",
    "        n_iter: int\n",
    "    '''\n",
    "\n",
    "    n_networks = len(np.unique(labels))\n",
    "\n",
    "    def calculate_networks_mean(matrix, labels, n_networks):\n",
    "        '''... '''\n",
    "        nam = np.zeros((n_networks, n_networks))\n",
    "\n",
    "        for i in range(n_networks):\n",
    "            for j in range(n_networks):\n",
    "                nam[i, j] = np.mean(matrix[np.nonzero(labels == i)][:, np.nonzero(labels == j)])\n",
    "\n",
    "        return nam\n",
    "\n",
    "    nam = calculate_networks_mean(matrix, labels, n_networks)\n",
    "    nam_null = np.zeros((n_networks, n_networks))\n",
    "    labels_null = labels.copy()\n",
    "\n",
    "    for _ in range(n_iter):\n",
    "        np.random.shuffle(labels_null)\n",
    "        nam_null += calculate_networks_mean(matrix, labels_null, n_networks)\n",
    "\n",
    "    nam_null /= n_iter    \n",
    "\n",
    "    return np.divide(nam, nam_null)"
   ]
  }
 ],
 "metadata": {
  "kernelspec": {
   "display_name": "Python 3",
   "language": "python",
   "name": "python3"
  },
  "language_info": {
   "codemirror_mode": {
    "name": "ipython",
    "version": 3
   },
   "file_extension": ".py",
   "mimetype": "text/x-python",
   "name": "python",
   "nbconvert_exporter": "python",
   "pygments_lexer": "ipython3",
   "version": "3.7.3"
  }
 },
 "nbformat": 4,
 "nbformat_minor": 4
}
