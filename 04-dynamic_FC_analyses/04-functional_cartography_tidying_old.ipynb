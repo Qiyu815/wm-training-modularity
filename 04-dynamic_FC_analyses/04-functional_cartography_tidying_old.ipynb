{
 "cells": [
  {
   "cell_type": "markdown",
   "metadata": {},
   "source": [
    "# **Working memory training**: preparing tidy dataframes with networks' recruitment and integration values\n",
    "\n",
    "Karolina Finc | Centre for Modern Interdisciplinary Technologies, Nicolaus Copernicus University in Toruń, Poland\n",
    "\n",
    "**Last edited:** 04-10-2018"
   ]
  },
  {
   "cell_type": "markdown",
   "metadata": {},
   "source": [
    "Step 0: Loading libraries\n",
    "-------------------------------"
   ]
  },
  {
   "cell_type": "code",
   "execution_count": 4,
   "metadata": {},
   "outputs": [],
   "source": [
    "%matplotlib inline\n",
    "\n",
    "import sys\n",
    "sys.path.append(\"..\")\n",
    "import os\n",
    "\n",
    "import scipy.io as sio\n",
    "import numpy as np\n",
    "from nilearn import plotting \n",
    "import pandas as pd\n",
    "import seaborn as sns\n",
    "import matplotlib.pyplot as plt\n",
    "\n",
    "from scipy import stats\n",
    "from fctools import networks, figures\n",
    "\n",
    "#---- matplotlib settings\n",
    "import matplotlib.pyplot as plt\n",
    "plt.style.use('seaborn-white')\n",
    "plt.rcParams['font.family'] = 'Helvetica'"
   ]
  },
  {
   "cell_type": "markdown",
   "metadata": {},
   "source": [
    "Step 1: Selecting subjects to analysis\n",
    "--------------------------------------------"
   ]
  },
  {
   "cell_type": "code",
   "execution_count": 7,
   "metadata": {},
   "outputs": [
    {
     "name": "stdout",
     "output_type": "stream",
     "text": [
      "Number of subject after excluding subjects with higly motion: 42\n"
     ]
    }
   ],
   "source": [
    "top_dir = '/home/finc/Dropbox/Projects/LearningBrain/'\n",
    "out_dir = f'{top_dir}data/neuroimaging/03-modularity/dynamic/04-recruitment_integration/'\n",
    "\n",
    "# Selecting subjects which finished the study\n",
    "groups = pd.read_csv('../data/behavioral/group_assignment.csv')\n",
    "\n",
    "trained = (groups.group == 'Experimental') | (groups.group == 'Control')\n",
    "trained_subs = groups[trained]\n",
    "subs = trained_subs['sub'].values\n",
    "\n",
    "#--- creating vectors to filter by group\n",
    "experimental = (trained_subs == 'Experimental')\n",
    "control = (trained_subs == 'Control')\n",
    "\n",
    "exp_vector = experimental['group'].values\n",
    "con_vector = control['group'].values\n",
    "\n",
    "#--- dualnback - selecting subjects included into dinal analysis and creating group assignment vectors\n",
    "dualnback_exclude = ['sub-13', 'sub-21', 'sub-23', 'sub-50'] # higly motion subjects in one of four sessions\n",
    "dual_vector = [True if sub not in dualnback_exclude else False for sub in subs]\n",
    "exp_vector = exp_vector[dual_vector]\n",
    "con_vector = con_vector[dual_vector]\n",
    "subs = trained_subs['sub'][dual_vector].values\n",
    "\n",
    "n = sum(dual_vector)\n",
    "print(f'Number of subject after excluding subjects with higly motion: {n}')"
   ]
  },
  {
   "cell_type": "markdown",
   "metadata": {},
   "source": [
    "Step 3: Getting modules names and color pallete\n",
    "----------------------------------------"
   ]
  },
  {
   "cell_type": "code",
   "execution_count": 9,
   "metadata": {},
   "outputs": [
    {
     "data": {
      "image/png": "[encoded data removed]",
      "text/plain": [
       "<Figure size 936x72 with 1 Axes>"
      ]
     },
     "metadata": {},
     "output_type": "display_data"
    }
   ],
   "source": [
    "labels = pd.read_csv('../support/modules.txt', sep = \" \", header = None)\n",
    "\n",
    "power_colors_new = {'AU':'#d182c6', \n",
    "                'CER':'#9fc5e8', \n",
    "                'CO':'#7d009d', \n",
    "                'DA':'#75df33', \n",
    "                'DM':'#ed1126', \n",
    "                'FP':'#f6e838', \n",
    "                'MEM':'#bebab5', \n",
    "                'SAL':'#2a2a2a', \n",
    "                'SOM':'#6ccadf', \n",
    "                'SUB':'#980000', \n",
    "                'UNC':'#f58c00', \n",
    "                'VA':'#00a074', \n",
    "                'VIS':'#5131ac',}\n",
    "\n",
    "modules = sorted(labels[0].values)\n",
    "network_pal = (sns.color_palette(power_colors_new.values()))\n",
    "sns.palplot(sns.color_palette(power_colors_new.values()))\n",
    "\n",
    "network_lut = dict(zip(map(str, np.unique(modules)), network_pal))\n",
    "\n",
    "network_colors = pd.Series(modules).map(network_lut)\n",
    "network_colors = np.asarray(network_colors)\n",
    "\n",
    "n_roi = len(labels)\n",
    "n_net = len(np.unique(modules))"
   ]
  },
  {
   "cell_type": "markdown",
   "metadata": {},
   "source": [
    "Step 4: Calculate integration and recruitment for each network\n",
    "----------------------------------------------------------------"
   ]
  },
  {
   "cell_type": "code",
   "execution_count": 10,
   "metadata": {},
   "outputs": [
    {
     "data": {
      "text/plain": [
       "(46, 4, 13, 13)"
      ]
     },
     "execution_count": 10,
     "metadata": {},
     "output_type": "execute_result"
    }
   ],
   "source": [
    "# Load module allegiance matrix\n",
    "P = np.load(f'{top_dir}data/neuroimaging/03-modularity/dynamic/03-allegiance_matrices/allegiance_matrix_power_dualnback_opt_mean.npy')\n",
    "\n",
    "# Calculate recruitment/integration grouped by distnct networks\n",
    "NA = networks.fc_cartography_4d(P, modules)\n",
    "NA.shape"
   ]
  },
  {
   "cell_type": "code",
   "execution_count": 21,
   "metadata": {},
   "outputs": [
    {
     "data": {
      "text/plain": [
       "<matplotlib.colorbar.Colorbar at 0x7ff6a03c3780>"
      ]
     },
     "execution_count": 21,
     "metadata": {},
     "output_type": "execute_result"
    },
    {
     "data": {
      "image/png": "[encoded data removed]",
      "text/plain": [
       "<Figure size 1584x720 with 9 Axes>"
      ]
     },
     "metadata": {
      "needs_background": "light"
     },
     "output_type": "display_data"
    }
   ],
   "source": [
    "# Plotting mean allegiances grouped by distinct networks\n",
    "plt.rc('xtick', labelsize=12)    # fontsize of the tick labels\n",
    "plt.rc('ytick', labelsize=12)  \n",
    "plt.rc('axes', linewidth=0)\n",
    "\n",
    "fig, axes = plt.subplots(2, 4)\n",
    "fig.set_size_inches(22, 10)\n",
    "group_vectors = [exp_vector, con_vector]\n",
    "ses_lab = ['Naive', 'Early', 'Middle', 'Late']\n",
    "group_lab = ['Experimental', 'Control']\n",
    "\n",
    "NA_clean = NA[dual_vector, :, :] # remove highly motion subjects\n",
    "\n",
    "for i, vec in enumerate(group_vectors):\n",
    "    for j, ses in enumerate(ses_lab):\n",
    "        M = NA_clean[vec,j, :,:].mean(axis=0)\n",
    "        plt.ioff()\n",
    "        g = sns.heatmap(M, yticklabels = np.unique(modules), \n",
    "                        xticklabels = np.unique(modules), \n",
    "                        square = True, \n",
    "                        cmap = \"RdBu_r\", \n",
    "                        ax=axes[i][j],\n",
    "                        vmin = 0.25, vmax = 0.45,\n",
    "                        cbar=None)\n",
    "        g.set_title(f'{group_lab[i]}: {ses}', size = 15)\n",
    "        g.set_xticklabels(np.unique(modules), rotation=45)\n",
    "        g.set_yticklabels(np.unique(modules), rotation=45)\n",
    "\n",
    "im = plt.gca().get_children()[0]\n",
    "cax = fig.add_axes([.91, .2, .01, .6]) \n",
    "fig.colorbar(im, cax=cax, drawedges = False)\n"
   ]
  },
  {
   "cell_type": "markdown",
   "metadata": {},
   "source": [
    "Step 5: Create tidy dataframe with integration and recruitment values\n",
    "----------------------------------------"
   ]
  },
  {
   "cell_type": "code",
   "execution_count": 14,
   "metadata": {},
   "outputs": [
    {
     "data": {
      "text/html": [
       "<div>\n",
       "<style scoped>\n",
       "    .dataframe tbody tr th:only-of-type {\n",
       "        vertical-align: middle;\n",
       "    }\n",
       "\n",
       "    .dataframe tbody tr th {\n",
       "        vertical-align: top;\n",
       "    }\n",
       "\n",
       "    .dataframe thead th {\n",
       "        text-align: right;\n",
       "    }\n",
       "</style>\n",
       "<table border=\"1\" class=\"dataframe\">\n",
       "  <thead>\n",
       "    <tr style=\"text-align: right;\">\n",
       "      <th></th>\n",
       "      <th>Subject</th>\n",
       "      <th>Group</th>\n",
       "      <th>Session</th>\n",
       "      <th>Network</th>\n",
       "      <th>AU</th>\n",
       "      <th>CER</th>\n",
       "      <th>CO</th>\n",
       "      <th>DA</th>\n",
       "      <th>DM</th>\n",
       "      <th>FP</th>\n",
       "      <th>MEM</th>\n",
       "      <th>SAL</th>\n",
       "      <th>SOM</th>\n",
       "      <th>SUB</th>\n",
       "      <th>UNC</th>\n",
       "      <th>VA</th>\n",
       "      <th>VIS</th>\n",
       "    </tr>\n",
       "  </thead>\n",
       "  <tbody>\n",
       "    <tr>\n",
       "      <th>0</th>\n",
       "      <td>sub-01</td>\n",
       "      <td>Control</td>\n",
       "      <td>Naive</td>\n",
       "      <td>AU</td>\n",
       "      <td>0.368444</td>\n",
       "      <td>0.242635</td>\n",
       "      <td>0.300036</td>\n",
       "      <td>0.249483</td>\n",
       "      <td>0.251251</td>\n",
       "      <td>0.256768</td>\n",
       "      <td>0.261477</td>\n",
       "      <td>0.273778</td>\n",
       "      <td>0.296924</td>\n",
       "      <td>0.299695</td>\n",
       "      <td>0.254772</td>\n",
       "      <td>0.280902</td>\n",
       "      <td>0.261282</td>\n",
       "    </tr>\n",
       "    <tr>\n",
       "      <th>1</th>\n",
       "      <td>sub-01</td>\n",
       "      <td>Control</td>\n",
       "      <td>Early</td>\n",
       "      <td>AU</td>\n",
       "      <td>0.410479</td>\n",
       "      <td>0.243173</td>\n",
       "      <td>0.315819</td>\n",
       "      <td>0.296622</td>\n",
       "      <td>0.265587</td>\n",
       "      <td>0.275328</td>\n",
       "      <td>0.276000</td>\n",
       "      <td>0.280205</td>\n",
       "      <td>0.300226</td>\n",
       "      <td>0.310482</td>\n",
       "      <td>0.234920</td>\n",
       "      <td>0.281543</td>\n",
       "      <td>0.276335</td>\n",
       "    </tr>\n",
       "    <tr>\n",
       "      <th>2</th>\n",
       "      <td>sub-01</td>\n",
       "      <td>Control</td>\n",
       "      <td>Middle</td>\n",
       "      <td>AU</td>\n",
       "      <td>0.466953</td>\n",
       "      <td>0.341144</td>\n",
       "      <td>0.326294</td>\n",
       "      <td>0.324490</td>\n",
       "      <td>0.275962</td>\n",
       "      <td>0.293272</td>\n",
       "      <td>0.318185</td>\n",
       "      <td>0.277650</td>\n",
       "      <td>0.351426</td>\n",
       "      <td>0.377349</td>\n",
       "      <td>0.269852</td>\n",
       "      <td>0.333090</td>\n",
       "      <td>0.302392</td>\n",
       "    </tr>\n",
       "    <tr>\n",
       "      <th>3</th>\n",
       "      <td>sub-01</td>\n",
       "      <td>Control</td>\n",
       "      <td>Late</td>\n",
       "      <td>AU</td>\n",
       "      <td>0.412521</td>\n",
       "      <td>0.311173</td>\n",
       "      <td>0.317014</td>\n",
       "      <td>0.313301</td>\n",
       "      <td>0.258850</td>\n",
       "      <td>0.257662</td>\n",
       "      <td>0.251285</td>\n",
       "      <td>0.277754</td>\n",
       "      <td>0.324680</td>\n",
       "      <td>0.311491</td>\n",
       "      <td>0.267444</td>\n",
       "      <td>0.314184</td>\n",
       "      <td>0.307989</td>\n",
       "    </tr>\n",
       "    <tr>\n",
       "      <th>4</th>\n",
       "      <td>sub-01</td>\n",
       "      <td>Control</td>\n",
       "      <td>Naive</td>\n",
       "      <td>CER</td>\n",
       "      <td>0.242635</td>\n",
       "      <td>0.557125</td>\n",
       "      <td>0.252063</td>\n",
       "      <td>0.282341</td>\n",
       "      <td>0.272345</td>\n",
       "      <td>0.235905</td>\n",
       "      <td>0.243600</td>\n",
       "      <td>0.226201</td>\n",
       "      <td>0.306339</td>\n",
       "      <td>0.268577</td>\n",
       "      <td>0.290955</td>\n",
       "      <td>0.275333</td>\n",
       "      <td>0.301419</td>\n",
       "    </tr>\n",
       "  </tbody>\n",
       "</table>\n",
       "</div>"
      ],
      "text/plain": [
       "  Subject    Group Session Network        AU       CER        CO        DA  \\\n",
       "0  sub-01  Control   Naive      AU  0.368444  0.242635  0.300036  0.249483   \n",
       "1  sub-01  Control   Early      AU  0.410479  0.243173  0.315819  0.296622   \n",
       "2  sub-01  Control  Middle      AU  0.466953  0.341144  0.326294  0.324490   \n",
       "3  sub-01  Control    Late      AU  0.412521  0.311173  0.317014  0.313301   \n",
       "4  sub-01  Control   Naive     CER  0.242635  0.557125  0.252063  0.282341   \n",
       "\n",
       "         DM        FP       MEM       SAL       SOM       SUB       UNC  \\\n",
       "0  0.251251  0.256768  0.261477  0.273778  0.296924  0.299695  0.254772   \n",
       "1  0.265587  0.275328  0.276000  0.280205  0.300226  0.310482  0.234920   \n",
       "2  0.275962  0.293272  0.318185  0.277650  0.351426  0.377349  0.269852   \n",
       "3  0.258850  0.257662  0.251285  0.277754  0.324680  0.311491  0.267444   \n",
       "4  0.272345  0.235905  0.243600  0.226201  0.306339  0.268577  0.290955   \n",
       "\n",
       "         VA       VIS  \n",
       "0  0.280902  0.261282  \n",
       "1  0.281543  0.276335  \n",
       "2  0.333090  0.302392  \n",
       "3  0.314184  0.307989  \n",
       "4  0.275333  0.301419  "
      ]
     },
     "execution_count": 14,
     "metadata": {},
     "output_type": "execute_result"
    }
   ],
   "source": [
    "result = pd.DataFrame()\n",
    "ses_lab = ['Naive', 'Early', 'Middle', 'Late']\n",
    "group = trained_subs.values[:,1]\n",
    "\n",
    "integ = pd.DataFrame()\n",
    "result = pd.DataFrame()\n",
    "\n",
    "for k, net1 in enumerate(np.unique(modules)):\n",
    "    for l, net2 in enumerate(np.unique(modules)):\n",
    "        for i, sub in enumerate(subs):\n",
    "            for j, ses in enumerate(ses_lab):\n",
    "                net_integ = NA[i, j, k, l]\n",
    "                result_pre = pd.DataFrame([[sub, ses, net2, net_integ]], columns=['Subject', 'Session', 'Network', f'{net1}'])               \n",
    "                result = result.append(result_pre) \n",
    "    if k == 0:\n",
    "        integ = result\n",
    "        result = pd.DataFrame()\n",
    "    if k > 0:\n",
    "        integ = pd.merge(integ, result, on = ['Subject', 'Session', 'Network'])\n",
    "        result = pd.DataFrame()\n",
    "        \n",
    "trained_subs = trained_subs.rename(index=str, columns={\"group\": \"Group\", \"sub\": \"Subject\"})\n",
    "integration_tidy = pd.merge(trained_subs, integ, on=\"Subject\")\n",
    "integration_tidy.to_csv(f'{out_dir}Power_integration_recruitment_all_networks_new.csv', index=False)\n",
    "\n",
    "\n",
    "integration_tidy.head()"
   ]
  },
  {
   "cell_type": "markdown",
   "metadata": {},
   "source": [
    "Step 5: Create tidy dataframe with integration and recruitment values (for each window)\n",
    "----------------------------------------"
   ]
  },
  {
   "cell_type": "code",
   "execution_count": 11,
   "metadata": {},
   "outputs": [
    {
     "data": {
      "text/plain": [
       "(46, 4, 20, 264, 264)"
      ]
     },
     "execution_count": 11,
     "metadata": {},
     "output_type": "execute_result"
    }
   ],
   "source": [
    "W = np.load(f'{top_dir}data/neuroimaging/03-modularity/dynamic/03-allegiance_matrices/window_allegiance_matrix_power_dualnback.npy')\n",
    "W.shape"
   ]
  },
  {
   "cell_type": "code",
   "execution_count": 6,
   "metadata": {},
   "outputs": [
    {
     "name": "stdout",
     "output_type": "stream",
     "text": [
      "Subject 1\n",
      "Subject 2\n",
      "Subject 3\n",
      "Subject 4\n",
      "Subject 5\n",
      "Subject 6\n",
      "Subject 7\n",
      "Subject 8\n",
      "Subject 9\n",
      "Subject 10\n",
      "Subject 11\n",
      "Subject 12\n",
      "Subject 13\n",
      "Subject 14\n",
      "Subject 15\n",
      "Subject 16\n",
      "Subject 17\n",
      "Subject 18\n",
      "Subject 19\n",
      "Subject 20\n",
      "Subject 21\n",
      "Subject 22\n",
      "Subject 23\n",
      "Subject 24\n",
      "Subject 25\n",
      "Subject 26\n",
      "Subject 27\n",
      "Subject 28\n",
      "Subject 29\n",
      "Subject 30\n",
      "Subject 31\n",
      "Subject 32\n",
      "Subject 33\n",
      "Subject 34\n",
      "Subject 35\n",
      "Subject 36\n",
      "Subject 37\n",
      "Subject 38\n",
      "Subject 39\n",
      "Subject 40\n",
      "Subject 41\n",
      "Subject 42\n",
      "Subject 43\n",
      "Subject 44\n",
      "Subject 45\n",
      "Subject 46\n"
     ]
    }
   ],
   "source": [
    "n_sub = len(W[:, 0, 0, 0, 0])\n",
    "n_ses = len(W[0, :, 0, 0, 0])\n",
    "n_nod = len(W[0, 0, 0, :, 0])\n",
    "n_win = len(W[0, 0, :, 0, 0])\n",
    "\n",
    "n_net = len(np.unique(modules))\n",
    "D = np.zeros((n_sub, n_ses, n_win, n_net, n_net))\n",
    "\n",
    "for i in range(n_sub):\n",
    "    print(f'Subject {i+1}')\n",
    "    for j in range(n_ses):\n",
    "        for k in range(n_win):\n",
    "            D[i, j, k, :, :] = networks.fc_cartography(W[i,j,k,:,:], modules)"
   ]
  },
  {
   "cell_type": "code",
   "execution_count": 7,
   "metadata": {},
   "outputs": [
    {
     "name": "stdout",
     "output_type": "stream",
     "text": [
      "AU\n",
      "CER\n",
      "CO\n",
      "DA\n",
      "DM\n",
      "FP\n",
      "MEM\n",
      "SAL\n",
      "SOM\n",
      "SUB\n",
      "UNC\n",
      "VA\n",
      "VIS\n"
     ]
    }
   ],
   "source": [
    "integ = pd.DataFrame()\n",
    "result = pd.DataFrame()\n",
    "windows = np.arange(1,21)\n",
    "\n",
    "subs = trained_subs.values[:,0]\n",
    "group = trained_subs.values[:,1]\n",
    "\n",
    "ses_lab = ['Naive', 'Early', 'Middle', 'Late']\n",
    "\n",
    "for k, net1 in enumerate(np.unique(modules)):\n",
    "    print(f'{net1}')\n",
    "    for l, net2 in enumerate(np.unique(modules)):\n",
    "        for w, win in enumerate(windows): \n",
    "            for i, sub in enumerate(subs):\n",
    "                for j, ses in enumerate(ses_lab):\n",
    "                    net_integ = D[i, j, w, k, l]\n",
    "                    result_pre = pd.DataFrame([[sub, group[i], ses, win, net2, net_integ]], \n",
    "                                              columns=['Subject', 'Group', 'Session', 'Window', 'Network', f'{net1}'])               \n",
    "                    result = result.append(result_pre) \n",
    "    if k == 0:\n",
    "        integ = result\n",
    "        result = pd.DataFrame()\n",
    "    if k > 0:\n",
    "        integ = pd.merge(integ, result, on = ['Subject', 'Group', 'Session', 'Network', 'Window'])\n",
    "        result = pd.DataFrame()\n",
    "        \n",
    "integ.to_csv(f'{out_dir}Power_integration_recruitment_windows_all_networks.csv', index=False)"
   ]
  }
 ],
 "metadata": {
  "kernelspec": {
   "display_name": "Python 3",
   "language": "python",
   "name": "python3"
  },
  "language_info": {
   "codemirror_mode": {
    "name": "ipython",
    "version": 3
   },
   "file_extension": ".py",
   "mimetype": "text/x-python",
   "name": "python",
   "nbconvert_exporter": "python",
   "pygments_lexer": "ipython3",
   "version": "3.7.3"
  }
 },
 "nbformat": 4,
 "nbformat_minor": 2
}
