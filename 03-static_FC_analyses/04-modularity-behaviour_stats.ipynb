{
 "cells": [
  {
   "cell_type": "markdown",
   "metadata": {},
   "source": [
    "# **Working memory training**: Modularity-behaviour analysis \n",
    "\n",
    "**Last edited:** 12-20-2019"
   ]
  },
  {
   "cell_type": "code",
   "execution_count": 188,
   "metadata": {},
   "outputs": [],
   "source": [
    "# Loading packages\n",
    "library(psych)\n",
    "library(tidyverse)\n",
    "library(data.table)\n",
    "library(nlme)\n",
    "library(broom)\n",
    "library(Hmisc)\n",
    "\n",
    "# Customizing theme for plotting\n",
    "theme_training <- theme_bw() + theme(axis.text.y = element_text(size=25, colour='#262626ff'),\n",
    "          axis.text.x = element_text(size=25, colour='#262626ff'),\n",
    "          axis.title.y = element_text(size=25, colour='#262626ff'),\n",
    "          axis.title.x  = element_text(size=25, colour='#262626ff'),\n",
    "          plot.title = element_text(hjust=0.5, size=25),\n",
    "          panel.grid.major = element_blank(), \n",
    "          panel.grid.minor = element_blank(),\n",
    "          axis.line = element_line(colour=\"#262626ff\"),\n",
    "          panel.border = element_rect(colour = \"#262626ff\", fill=NA, size=1.8),\n",
    "          panel.background = element_rect(fill=\"transparent\",colour=NA),\n",
    "          plot.background = element_rect(fill=\"transparent\",colour=NA),\n",
    "          legend.key = element_rect(fill= \"transparent\", colour=\"transparent\"),\n",
    "          strip.background =element_rect(fill=\"transparent\", colour=NA),\n",
    "          strip.text = element_text(size=25),\n",
    "          axis.ticks = element_line(colour=\"#262626ff\", size=1, 2),\n",
    "          axis.ticks.length = unit(.15, \"cm\"),\n",
    "          aspect.ratio = 1,\n",
    "          )"
   ]
  },
  {
   "cell_type": "markdown",
   "metadata": {},
   "source": [
    "Step 1: Preparing data\n",
    "-----------------------"
   ]
  },
  {
   "cell_type": "code",
   "execution_count": 96,
   "metadata": {},
   "outputs": [
    {
     "name": "stderr",
     "output_type": "stream",
     "text": [
      "Joining, by = c(\"Subject\", \"Group\", \"Session\")\n"
     ]
    },
    {
     "data": {
      "text/html": [
       "<table>\n",
       "<thead><tr><th scope=col>Subject</th><th scope=col>Group</th><th scope=col>Session</th><th scope=col>Q_norm_1back</th><th scope=col>Q_norm_2back</th><th scope=col>Q_2back_1back</th></tr></thead>\n",
       "<tbody>\n",
       "\t<tr><td>sub-01     </td><td>Control    </td><td>Naive      </td><td>2.116409   </td><td>2.210752   </td><td> 0.09434333</td></tr>\n",
       "\t<tr><td>sub-01     </td><td>Control    </td><td>Early      </td><td>2.313354   </td><td>2.634171   </td><td> 0.32081705</td></tr>\n",
       "\t<tr><td>sub-01     </td><td>Control    </td><td>Middle     </td><td>2.647316   </td><td>2.142436   </td><td>-0.50487984</td></tr>\n",
       "\t<tr><td>sub-01     </td><td>Control    </td><td>Late       </td><td>3.066959   </td><td>2.751871   </td><td>-0.31508854</td></tr>\n",
       "\t<tr><td>sub-02     </td><td>Control    </td><td>Naive      </td><td>2.831184   </td><td>2.535654   </td><td>-0.29552974</td></tr>\n",
       "\t<tr><td>sub-02     </td><td>Control    </td><td>Early      </td><td>3.098727   </td><td>3.005136   </td><td>-0.09359070</td></tr>\n",
       "</tbody>\n",
       "</table>\n"
      ],
      "text/latex": [
       "\\begin{tabular}{r|llllll}\n",
       " Subject & Group & Session & Q\\_norm\\_1back & Q\\_norm\\_2back & Q\\_2back\\_1back\\\\\n",
       "\\hline\n",
       "\t sub-01      & Control     & Naive       & 2.116409    & 2.210752    &  0.09434333\\\\\n",
       "\t sub-01      & Control     & Early       & 2.313354    & 2.634171    &  0.32081705\\\\\n",
       "\t sub-01      & Control     & Middle      & 2.647316    & 2.142436    & -0.50487984\\\\\n",
       "\t sub-01      & Control     & Late        & 3.066959    & 2.751871    & -0.31508854\\\\\n",
       "\t sub-02      & Control     & Naive       & 2.831184    & 2.535654    & -0.29552974\\\\\n",
       "\t sub-02      & Control     & Early       & 3.098727    & 3.005136    & -0.09359070\\\\\n",
       "\\end{tabular}\n"
      ],
      "text/markdown": [
       "\n",
       "Subject | Group | Session | Q_norm_1back | Q_norm_2back | Q_2back_1back | \n",
       "|---|---|---|---|---|---|\n",
       "| sub-01      | Control     | Naive       | 2.116409    | 2.210752    |  0.09434333 | \n",
       "| sub-01      | Control     | Early       | 2.313354    | 2.634171    |  0.32081705 | \n",
       "| sub-01      | Control     | Middle      | 2.647316    | 2.142436    | -0.50487984 | \n",
       "| sub-01      | Control     | Late        | 3.066959    | 2.751871    | -0.31508854 | \n",
       "| sub-02      | Control     | Naive       | 2.831184    | 2.535654    | -0.29552974 | \n",
       "| sub-02      | Control     | Early       | 3.098727    | 3.005136    | -0.09359070 | \n",
       "\n",
       "\n"
      ],
      "text/plain": [
       "  Subject Group   Session Q_norm_1back Q_norm_2back Q_2back_1back\n",
       "1 sub-01  Control Naive   2.116409     2.210752      0.09434333  \n",
       "2 sub-01  Control Early   2.313354     2.634171      0.32081705  \n",
       "3 sub-01  Control Middle  2.647316     2.142436     -0.50487984  \n",
       "4 sub-01  Control Late    3.066959     2.751871     -0.31508854  \n",
       "5 sub-02  Control Naive   2.831184     2.535654     -0.29552974  \n",
       "6 sub-02  Control Early   3.098727     3.005136     -0.09359070  "
      ]
     },
     "metadata": {},
     "output_type": "display_data"
    }
   ],
   "source": [
    "# Setting working directory\n",
    "setwd(\"~/Dropbox/Projects/LearningBrain/\")\n",
    "\n",
    "#---Modularity\n",
    "Q <- read.csv('./data/neuroimaging/03-modularity/static/Q_normalized_power_tidy.csv')\n",
    "Q$Session <- factor(Q$Session, levels = c('Naive', 'Early', 'Middle', 'Late'))\n",
    "Q$Condition <- factor(Q$Condition, levels = c('Rest', '1-back', '2-back'))\n",
    "Q$Group <- factor(Q$Group, levels = c('Experimental', 'Control'))\n",
    "\n",
    "\n",
    "Q$Task[Q$Condition == '1-back'] <- 'N-back'\n",
    "Q$Task[Q$Condition == '2-back'] <- 'N-back'\n",
    "Q$Task[Q$Condition == 'Rest'] <- 'Rest'\n",
    "\n",
    "first_session_motion = 'sub-21' # subject with highly motion on first session\n",
    "dualnback_motion = c('sub-13', 'sub-21', 'sub-23', 'sub-50')\n",
    "\n",
    "# Selecting 1-back\n",
    "Q_1back <- Q %>% \n",
    "        filter(Condition == '1-back') %>%\n",
    "        select(-Task) %>% \n",
    "        select(-Condition)\n",
    "\n",
    "colnames(Q_1back)[4] <- 'Q_norm_1back'\n",
    "\n",
    "# Selecting 2-back\n",
    "Q_2back <- Q %>% \n",
    "           filter(Condition == '2-back') %>% \n",
    "           select(-Task) %>% \n",
    "           select(-Condition)\n",
    "\n",
    "colnames(Q_2back)[4] <- 'Q_norm_2back'\n",
    "\n",
    "# Delta Q\n",
    "Q_2back_1back <- Q_2back$Q_norm_2back - Q_1back$Q_norm_1back\n",
    "\n",
    "Q_diff <- Q_1back %>% left_join(Q_2back)\n",
    "Q_diff$Q_2back_1back <- Q_2back_1back  \n",
    "\n",
    "head(Q_diff)"
   ]
  },
  {
   "cell_type": "code",
   "execution_count": 107,
   "metadata": {},
   "outputs": [
    {
     "name": "stderr",
     "output_type": "stream",
     "text": [
      "Joining, by = c(\"Subject\", \"Group\", \"Session\")\n",
      "Warning message:\n",
      "“Column `Group` joining factors with different levels, coercing to character vector”Warning message:\n",
      "“Column `Session` joining factors with different levels, coercing to character vector”"
     ]
    },
    {
     "data": {
      "text/html": [
       "<table>\n",
       "<thead><tr><th scope=col>Subject</th><th scope=col>Group</th><th scope=col>Session</th><th scope=col>Q_norm_1back</th><th scope=col>Q_norm_2back</th><th scope=col>Q_2back_1back</th><th scope=col>Accuracy_1back</th><th scope=col>pRT_1back</th><th scope=col>Dprime_1back</th><th scope=col>Accuracy_2back</th><th scope=col>pRT_2back</th><th scope=col>Dprime_2back</th><th scope=col>Accuracy_delta</th><th scope=col>pRT_delta</th><th scope=col>Dprime_delta</th></tr></thead>\n",
       "<tbody>\n",
       "\t<tr><td>sub-01     </td><td>Control    </td><td>Naive      </td><td>2.116409   </td><td>2.210752   </td><td> 0.09434333</td><td>0.8666667  </td><td>1001.0327  </td><td>3.437119   </td><td>0.7833333  </td><td>1433.765   </td><td>2.514055   </td><td>-0.08333333</td><td>432.73223  </td><td>-0.9230648 </td></tr>\n",
       "\t<tr><td>sub-01     </td><td>Control    </td><td>Early      </td><td>2.313354   </td><td>2.634171   </td><td> 0.32081705</td><td>0.8666667  </td><td>1003.1715  </td><td>3.429125   </td><td>0.8666667  </td><td>1282.489   </td><td>3.117902   </td><td> 0.00000000</td><td>279.31739  </td><td>-0.3112230 </td></tr>\n",
       "\t<tr><td>sub-01     </td><td>Control    </td><td>Middle     </td><td>2.647316   </td><td>2.142436   </td><td>-0.50487984</td><td>0.8000000  </td><td>1178.2379  </td><td>2.758558   </td><td>0.9000000  </td><td>1108.405   </td><td>3.460899   </td><td> 0.10000000</td><td>-69.83277  </td><td> 0.7023419 </td></tr>\n",
       "\t<tr><td>sub-01     </td><td>Control    </td><td>Late       </td><td>3.066959   </td><td>2.751871   </td><td>-0.31508854</td><td>0.8166667  </td><td>1181.4785  </td><td>2.720889   </td><td>0.8166667  </td><td>1216.572   </td><td>2.946157   </td><td> 0.00000000</td><td> 35.09329  </td><td> 0.2252675 </td></tr>\n",
       "\t<tr><td>sub-02     </td><td>Control    </td><td>Naive      </td><td>2.831184   </td><td>2.535654   </td><td>-0.29552974</td><td>0.9666667  </td><td>1135.0613  </td><td>3.843789   </td><td>0.6500000  </td><td>1289.423   </td><td>2.348657   </td><td>-0.31666667</td><td>154.36136  </td><td>-1.4951323 </td></tr>\n",
       "\t<tr><td>sub-02     </td><td>Control    </td><td>Early      </td><td>3.098727   </td><td>3.005136   </td><td>-0.09359070</td><td>0.9500000  </td><td> 957.6361  </td><td>3.972061   </td><td>0.9166667  </td><td>1032.879   </td><td>3.539530   </td><td>-0.03333333</td><td> 75.24335  </td><td>-0.4325309 </td></tr>\n",
       "</tbody>\n",
       "</table>\n"
      ],
      "text/latex": [
       "\\begin{tabular}{r|lllllllllllllll}\n",
       " Subject & Group & Session & Q\\_norm\\_1back & Q\\_norm\\_2back & Q\\_2back\\_1back & Accuracy\\_1back & pRT\\_1back & Dprime\\_1back & Accuracy\\_2back & pRT\\_2back & Dprime\\_2back & Accuracy\\_delta & pRT\\_delta & Dprime\\_delta\\\\\n",
       "\\hline\n",
       "\t sub-01      & Control     & Naive       & 2.116409    & 2.210752    &  0.09434333 & 0.8666667   & 1001.0327   & 3.437119    & 0.7833333   & 1433.765    & 2.514055    & -0.08333333 & 432.73223   & -0.9230648 \\\\\n",
       "\t sub-01      & Control     & Early       & 2.313354    & 2.634171    &  0.32081705 & 0.8666667   & 1003.1715   & 3.429125    & 0.8666667   & 1282.489    & 3.117902    &  0.00000000 & 279.31739   & -0.3112230 \\\\\n",
       "\t sub-01      & Control     & Middle      & 2.647316    & 2.142436    & -0.50487984 & 0.8000000   & 1178.2379   & 2.758558    & 0.9000000   & 1108.405    & 3.460899    &  0.10000000 & -69.83277   &  0.7023419 \\\\\n",
       "\t sub-01      & Control     & Late        & 3.066959    & 2.751871    & -0.31508854 & 0.8166667   & 1181.4785   & 2.720889    & 0.8166667   & 1216.572    & 2.946157    &  0.00000000 &  35.09329   &  0.2252675 \\\\\n",
       "\t sub-02      & Control     & Naive       & 2.831184    & 2.535654    & -0.29552974 & 0.9666667   & 1135.0613   & 3.843789    & 0.6500000   & 1289.423    & 2.348657    & -0.31666667 & 154.36136   & -1.4951323 \\\\\n",
       "\t sub-02      & Control     & Early       & 3.098727    & 3.005136    & -0.09359070 & 0.9500000   &  957.6361   & 3.972061    & 0.9166667   & 1032.879    & 3.539530    & -0.03333333 &  75.24335   & -0.4325309 \\\\\n",
       "\\end{tabular}\n"
      ],
      "text/markdown": [
       "\n",
       "Subject | Group | Session | Q_norm_1back | Q_norm_2back | Q_2back_1back | Accuracy_1back | pRT_1back | Dprime_1back | Accuracy_2back | pRT_2back | Dprime_2back | Accuracy_delta | pRT_delta | Dprime_delta | \n",
       "|---|---|---|---|---|---|\n",
       "| sub-01      | Control     | Naive       | 2.116409    | 2.210752    |  0.09434333 | 0.8666667   | 1001.0327   | 3.437119    | 0.7833333   | 1433.765    | 2.514055    | -0.08333333 | 432.73223   | -0.9230648  | \n",
       "| sub-01      | Control     | Early       | 2.313354    | 2.634171    |  0.32081705 | 0.8666667   | 1003.1715   | 3.429125    | 0.8666667   | 1282.489    | 3.117902    |  0.00000000 | 279.31739   | -0.3112230  | \n",
       "| sub-01      | Control     | Middle      | 2.647316    | 2.142436    | -0.50487984 | 0.8000000   | 1178.2379   | 2.758558    | 0.9000000   | 1108.405    | 3.460899    |  0.10000000 | -69.83277   |  0.7023419  | \n",
       "| sub-01      | Control     | Late        | 3.066959    | 2.751871    | -0.31508854 | 0.8166667   | 1181.4785   | 2.720889    | 0.8166667   | 1216.572    | 2.946157    |  0.00000000 |  35.09329   |  0.2252675  | \n",
       "| sub-02      | Control     | Naive       | 2.831184    | 2.535654    | -0.29552974 | 0.9666667   | 1135.0613   | 3.843789    | 0.6500000   | 1289.423    | 2.348657    | -0.31666667 | 154.36136   | -1.4951323  | \n",
       "| sub-02      | Control     | Early       | 3.098727    | 3.005136    | -0.09359070 | 0.9500000   |  957.6361   | 3.972061    | 0.9166667   | 1032.879    | 3.539530    | -0.03333333 |  75.24335   | -0.4325309  | \n",
       "\n",
       "\n"
      ],
      "text/plain": [
       "  Subject Group   Session Q_norm_1back Q_norm_2back Q_2back_1back\n",
       "1 sub-01  Control Naive   2.116409     2.210752      0.09434333  \n",
       "2 sub-01  Control Early   2.313354     2.634171      0.32081705  \n",
       "3 sub-01  Control Middle  2.647316     2.142436     -0.50487984  \n",
       "4 sub-01  Control Late    3.066959     2.751871     -0.31508854  \n",
       "5 sub-02  Control Naive   2.831184     2.535654     -0.29552974  \n",
       "6 sub-02  Control Early   3.098727     3.005136     -0.09359070  \n",
       "  Accuracy_1back pRT_1back Dprime_1back Accuracy_2back pRT_2back Dprime_2back\n",
       "1 0.8666667      1001.0327 3.437119     0.7833333      1433.765  2.514055    \n",
       "2 0.8666667      1003.1715 3.429125     0.8666667      1282.489  3.117902    \n",
       "3 0.8000000      1178.2379 2.758558     0.9000000      1108.405  3.460899    \n",
       "4 0.8166667      1181.4785 2.720889     0.8166667      1216.572  2.946157    \n",
       "5 0.9666667      1135.0613 3.843789     0.6500000      1289.423  2.348657    \n",
       "6 0.9500000       957.6361 3.972061     0.9166667      1032.879  3.539530    \n",
       "  Accuracy_delta pRT_delta Dprime_delta\n",
       "1 -0.08333333    432.73223 -0.9230648  \n",
       "2  0.00000000    279.31739 -0.3112230  \n",
       "3  0.10000000    -69.83277  0.7023419  \n",
       "4  0.00000000     35.09329  0.2252675  \n",
       "5 -0.31666667    154.36136 -1.4951323  \n",
       "6 -0.03333333     75.24335 -0.4325309  "
      ]
     },
     "metadata": {},
     "output_type": "display_data"
    }
   ],
   "source": [
    "#--- Behaviour\n",
    "\n",
    "# Behaviour 1-back\n",
    "behaviour_1back <- behaviour %>% \n",
    "                   filter(Condition=='1-back') %>%\n",
    "                   select(-Condition)\n",
    "\n",
    "# Behaviour 2-back\n",
    "behaviour_2back <- behaviour %>% \n",
    "                   filter(Condition=='2-back') %>% \n",
    "                   select(-Condition)\n",
    "\n",
    "# Add 1-back/2-back labels to behaviour columns\n",
    "colnames(behaviour_1back)[3:5] <- paste(colnames(behaviour_1back)[3:5], \"1back\", sep = \"_\")\n",
    "colnames(behaviour_2back)[3:5] <- paste(colnames(behaviour_2back)[3:5], \"2back\", sep = \"_\")\n",
    "\n",
    "# Calculate change from 1-back to 2-back\n",
    "behaviour_2back_1back <- behaviour_2back[3:5] - behaviour_1back[3:5]\n",
    "colnames(behaviour_2back_1back) <- paste(colnames(behaviour)[4:6], \"delta\", sep = \"_\")\n",
    "\n",
    "\n",
    "behaviour_diff <- behaviour_1back %>% \n",
    "    left_join(behaviour_2back, by=c(\"Subject\", \"Session\", \"Group\")) %>% \n",
    "    cbind(delta)\n",
    "\n",
    "#--- Merging modulatiy and behaviour into one table\n",
    "\n",
    "Q_beh <- left_join(Q_diff, behaviour_diff)\n",
    "head(Q_beh)"
   ]
  },
  {
   "cell_type": "markdown",
   "metadata": {},
   "source": [
    "Step 2: Correlation of delta modularity and delta pRT (first session)\n",
    "-----------------------"
   ]
  },
  {
   "cell_type": "code",
   "execution_count": 111,
   "metadata": {},
   "outputs": [
    {
     "data": {
      "text/plain": [
       "\n",
       "\tPearson's product-moment correlation\n",
       "\n",
       "data:  naive_diff$Q_2back_1back and naive_diff$pRT_delta\n",
       "t = -1.7454, df = 43, p-value = 0.08806\n",
       "alternative hypothesis: true correlation is not equal to 0\n",
       "95 percent confidence interval:\n",
       " -0.5120875  0.0392826\n",
       "sample estimates:\n",
       "       cor \n",
       "-0.2572172 \n"
      ]
     },
     "metadata": {},
     "output_type": "display_data"
    },
    {
     "data": {
      "text/plain": [
       "\n",
       "\tPearson's product-moment correlation\n",
       "\n",
       "data:  naive_diff$Q_2back_1back and naive_diff$Dprime_delta\n",
       "t = 0.77226, df = 43, p-value = 0.4442\n",
       "alternative hypothesis: true correlation is not equal to 0\n",
       "95 percent confidence interval:\n",
       " -0.1828512  0.3968690\n",
       "sample estimates:\n",
       "      cor \n",
       "0.1169604 \n"
      ]
     },
     "metadata": {},
     "output_type": "display_data"
    }
   ],
   "source": [
    "naive_diff <- Q_beh %>% filter(Session == 'Naive') %>% filter(Subject != 'sub-21') \n",
    "cor.test(naive_diff$Q_2back_1back, naive_diff$pRT_delta)\n",
    "cor.test(naive_diff$Q_2back_1back, naive_diff$Dprime_delta)"
   ]
  },
  {
   "cell_type": "code",
   "execution_count": 102,
   "metadata": {},
   "outputs": [
    {
     "data": {
      "image/png": "[encoded data removed]",
      "text/plain": [
       "plot without title"
      ]
     },
     "metadata": {},
     "output_type": "display_data"
    }
   ],
   "source": [
    "p <- ggplot(naive, aes(y = Q_2back_1back, x = naive$pRT_delta)) + \n",
    "    geom_point(col = '#daa03d',size = 4, alpha = 0.8) + \n",
    "    geom_smooth(\n",
    "            method = 'lm', \n",
    "            col = '#262626ff', fill = '#daa03d', size = 1.5, alpha = 0.2) +\n",
    "    theme_training + \n",
    "    xlab(expression(paste(Delta, ' pRT'))) + \n",
    "    ylab(expression(paste(Delta, ' Normalized modularity')))\n",
    "p\n",
    "\n",
    "#ggsave(\"figures/Figure_modu_pRT_naive_corr.pdf\", plot = p, width = 8, height = 6, dpi = 300)  "
   ]
  },
  {
   "cell_type": "markdown",
   "metadata": {},
   "source": [
    "Step 3: Correlation of delta modularity and delta pRT change\n",
    "-----------------------"
   ]
  },
  {
   "cell_type": "code",
   "execution_count": 186,
   "metadata": {},
   "outputs": [
    {
     "name": "stderr",
     "output_type": "stream",
     "text": [
      "Joining, by = c(\"Subject\", \"Group\")\n"
     ]
    }
   ],
   "source": [
    "#--- Preparing data\n",
    "Q_beh <- Q_beh %>% \n",
    "               filter(!(Subject %in% dualnback_motion))\n",
    "\n",
    "naive <- Q_beh %>% \n",
    "        filter(Session %in% c('Naive')) %>%\n",
    "        select(-Session)\n",
    "\n",
    "late <- Q_beh %>% \n",
    "        filter(Session %in% c('Late')) %>%\n",
    "        select(-Session)\n",
    "\n",
    "# Add naive/late labels to columns\n",
    "colnames(naive)[3:14] <- paste(colnames(naive)[3:14], \"naive\", sep = \"_\")\n",
    "colnames(late)[3:14] <- paste(colnames(late)[3:14], \"late\", sep = \"_\")\n",
    "\n",
    "# Calculate change from Naive to Late\n",
    "Q_beh_change <- late[3:14] - naive[3:14]\n",
    "colnames(Q_beh_change) <- paste(colnames(Q_beh%>%select(-Session))[3:14], \"change\", sep = \"_\")\n",
    "\n",
    "Q_beh_diff <- left_join(naive, late) %>% cbind(Q_beh_change)\n",
    "Q_beh_diff_exp <- Q_beh_diff %>% filter(Group=='Experimental')"
   ]
  },
  {
   "cell_type": "code",
   "execution_count": 178,
   "metadata": {},
   "outputs": [
    {
     "data": {
      "text/plain": [
       "\n",
       "\tPearson's product-moment correlation\n",
       "\n",
       "data:  Q_beh_diff$pRT_2back_change and Q_beh_diff$Q_norm_2back_change\n",
       "t = 0.58919, df = 40, p-value = 0.559\n",
       "alternative hypothesis: true correlation is not equal to 0\n",
       "95 percent confidence interval:\n",
       " -0.2172997  0.3858123\n",
       "sample estimates:\n",
       "       cor \n",
       "0.09275774 \n"
      ]
     },
     "metadata": {},
     "output_type": "display_data"
    },
    {
     "data": {
      "text/plain": [
       "\n",
       "\tPearson's product-moment correlation\n",
       "\n",
       "data:  Q_beh_diff_exp$pRT_2back_change and Q_beh_diff_exp$Q_norm_2back_change\n",
       "t = 1.1789, df = 19, p-value = 0.253\n",
       "alternative hypothesis: true correlation is not equal to 0\n",
       "95 percent confidence interval:\n",
       " -0.1922729  0.6226000\n",
       "sample estimates:\n",
       "      cor \n",
       "0.2610843 \n"
      ]
     },
     "metadata": {},
     "output_type": "display_data"
    }
   ],
   "source": [
    "# 2-back pRT change vs. 2-back Q change:\n",
    "cor.test(Q_beh_diff$pRT_2back_change, Q_beh_diff$Q_norm_2back_change) # all\n",
    "cor.test(Q_beh_diff_exp$pRT_2back_change, Q_beh_diff_exp$Q_norm_2back_change) # experimental"
   ]
  },
  {
   "cell_type": "code",
   "execution_count": 175,
   "metadata": {},
   "outputs": [
    {
     "data": {
      "text/plain": [
       "\n",
       "\tPearson's product-moment correlation\n",
       "\n",
       "data:  Q_beh_diff$pRT_delta_change and Q_beh_diff$Q_2back_1back_change\n",
       "t = 0.68173, df = 40, p-value = 0.4993\n",
       "alternative hypothesis: true correlation is not equal to 0\n",
       "95 percent confidence interval:\n",
       " -0.2033856  0.3981337\n",
       "sample estimates:\n",
       "      cor \n",
       "0.1071706 \n"
      ]
     },
     "metadata": {},
     "output_type": "display_data"
    },
    {
     "data": {
      "text/plain": [
       "\n",
       "\tPearson's product-moment correlation\n",
       "\n",
       "data:  Q_beh_diff_exp$pRT_delta_change and Q_beh_diff_exp$Q_2back_1back_change\n",
       "t = -0.63696, df = 19, p-value = 0.5318\n",
       "alternative hypothesis: true correlation is not equal to 0\n",
       "95 percent confidence interval:\n",
       " -0.5424217  0.3062077\n",
       "sample estimates:\n",
       "       cor \n",
       "-0.1445921 \n"
      ]
     },
     "metadata": {},
     "output_type": "display_data"
    }
   ],
   "source": [
    "# Delta pRT change vs. Delta Q change:\n",
    "cor.test(Q_beh_diff$pRT_delta_change, Q_beh_diff$Q_2back_1back_change) # all\n",
    "cor.test(Q_beh_diff_exp$pRT_delta_change, Q_beh_diff_exp$Q_2back_1back_change) # experimental"
   ]
  },
  {
   "cell_type": "markdown",
   "metadata": {},
   "source": [
    "Step 4: Correlation of delta modularity and maximum n-level during training\n",
    "-----------------------"
   ]
  },
  {
   "cell_type": "code",
   "execution_count": 187,
   "metadata": {},
   "outputs": [
    {
     "name": "stderr",
     "output_type": "stream",
     "text": [
      "Joining, by = \"Subject\"\n",
      "Warning message:\n",
      "“Column `Subject` joining factors with different levels, coercing to character vector”"
     ]
    },
    {
     "data": {
      "text/plain": [
       "\n",
       "\tPearson's product-moment correlation\n",
       "\n",
       "data:  beh_train_perf_diff$Q_norm_2back_change and beh_train_perf_diff$Max_n_lev\n",
       "t = 0.34882, df = 19, p-value = 0.7311\n",
       "alternative hypothesis: true correlation is not equal to 0\n",
       "95 percent confidence interval:\n",
       " -0.3644685  0.4944298\n",
       "sample estimates:\n",
       "       cor \n",
       "0.07976875 \n"
      ]
     },
     "metadata": {},
     "output_type": "display_data"
    }
   ],
   "source": [
    "training_progress <- read.csv('data/behavioral/WM_training_max_level.csv')\n",
    "beh_train_perf_diff <- left_join(Q_beh_diff_exp, training_progress)\n",
    "\n",
    "cor.test(beh_train_perf_diff$Q_norm_2back_change, beh_train_perf_diff$Max_n_lev)"
   ]
  }
 ],
 "metadata": {
  "kernelspec": {
   "display_name": "R",
   "language": "R",
   "name": "ir"
  },
  "language_info": {
   "codemirror_mode": "r",
   "file_extension": ".r",
   "mimetype": "text/x-r-source",
   "name": "R",
   "pygments_lexer": "r",
   "version": "3.4.4"
  }
 },
 "nbformat": 4,
 "nbformat_minor": 2
}
