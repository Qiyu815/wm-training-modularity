{
 "cells": [
  {
   "cell_type": "markdown",
   "metadata": {},
   "source": [
    "# **Working memory training**: Static connectivity estimation"
   ]
  },
  {
   "cell_type": "markdown",
   "metadata": {},
   "source": [
    "Step 0:  Loading libraries\n",
    "--------------------------------"
   ]
  },
  {
   "cell_type": "code",
   "execution_count": 2,
   "metadata": {},
   "outputs": [
    {
     "name": "stderr",
     "output_type": "stream",
     "text": [
      "/home/finc/anaconda3/lib/python3.7/site-packages/matplotlib/__init__.py:855: MatplotlibDeprecationWarning: \n",
      "examples.directory is deprecated; in the future, examples will be found relative to the 'datapath' directory.\n",
      "  \"found relative to the 'datapath' directory.\".format(key))\n",
      "/home/finc/anaconda3/lib/python3.7/site-packages/matplotlib/__init__.py:846: MatplotlibDeprecationWarning: \n",
      "The text.latex.unicode rcparam was deprecated in Matplotlib 2.2 and will be removed in 3.1.\n",
      "  \"2.2\", name=key, obj_type=\"rcparam\", addendum=addendum)\n"
     ]
    }
   ],
   "source": [
    "%matplotlib inline\n",
    "\n",
    "\n",
    "import sys\n",
    "sys.path.append(\"..\")\n",
    "\n",
    "import os\n",
    "\n",
    "import pandas as pd\n",
    "import numpy as np \n",
    "import matplotlib.pyplot as plt \n",
    "\n",
    "from nilearn import datasets, plotting, input_data, signal  # for fetching atlas\n",
    "\n",
    "from nilearn.input_data import NiftiLabelsMasker\n",
    "from nilearn.connectome import ConnectivityMeasure\n",
    "from nistats.reporting import plot_design_matrix\n",
    "from nistats.design_matrix import make_first_level_design_matrix\n",
    "from sklearn.covariance import EmpiricalCovariance\n",
    "\n",
    "import seaborn as sns\n",
    "sns.reset_orig()\n",
    "\n",
    "from fctools import denoise, stats"
   ]
  },
  {
   "cell_type": "markdown",
   "metadata": {},
   "source": [
    "Step 1:  Design specification\n",
    "--------------------------------"
   ]
  },
  {
   "cell_type": "code",
   "execution_count": 3,
   "metadata": {},
   "outputs": [
    {
     "name": "stderr",
     "output_type": "stream",
     "text": [
      "/home/finc/anaconda3/lib/python3.7/site-packages/nistats/utils.py:276: UserWarning: Matrix is singular at working precision, regularizing...\n",
      "  warn('Matrix is singular at working precision, regularizing...')\n"
     ]
    },
    {
     "data": {
      "text/plain": [
       "[<matplotlib.lines.Line2D at 0x7fa8c6b2aa58>]"
      ]
     },
     "execution_count": 3,
     "metadata": {},
     "output_type": "execute_result"
    },
    {
     "data": {
      "image/png": "[encoded data removed]",
      "text/plain": [
       "<Figure size 432x288 with 1 Axes>"
      ]
     },
     "metadata": {
      "needs_background": "light"
     },
     "output_type": "display_data"
    }
   ],
   "source": [
    "t_r = 2\n",
    "n_scans = 340\n",
    "\n",
    "onsets_dir = '/home/finc/Dropbox/Projects/LearningBrain/github/LearningBrain_networks/support/onsets_dualnback.csv'\n",
    "events = pd.read_csv(onsets_dir)\n",
    "frame_times = np.arange(n_scans) * t_r\n",
    "\n",
    "# Step 1\n",
    "box = make_first_level_design_matrix(frame_times, events, hrf_model = None)\n",
    "box = box.reset_index()\n",
    "\n",
    "# Step 2\n",
    "box_hrf = make_first_level_design_matrix(frame_times, events, hrf_model = 'glover')\n",
    "box_hrf  = box_hrf.reset_index()\n",
    "\n",
    "plt.plot(box_hrf['1-back'])"
   ]
  },
  {
   "cell_type": "markdown",
   "metadata": {},
   "source": [
    "Step 2: Loading data\n",
    "----------------------------------------------------\n"
   ]
  },
  {
   "cell_type": "code",
   "execution_count": 4,
   "metadata": {},
   "outputs": [],
   "source": [
    "top_dir = '/home/finc/Dropbox/Projects/LearningBrain/data/neuroimaging/01-extracted_timeseries/'\n",
    "out_dir = '/home/finc/Dropbox/Projects/LearningBrain/data/neuroimaging/02-correlation_matrices/'\n",
    "\n",
    "dual_power = np.load(f'{top_dir}dualnback/LB_dualnback_timeseries_power_denoised_acompcor_no_smooth.npy')\n",
    "dual_schaefer = np.load(f'{top_dir}dualnback/LB_dualnback_timeseries_schaefer_denoised_acompcor_no_smooth.npy')\n",
    "\n",
    "rest_power = np.load(f'{top_dir}rest/LB_rest_timeseries_power_denoised_acompcor_no_smooth.npy')\n",
    "rest_schaefer = np.load(f'{top_dir}rest/LB_rest_timeseries_schaefer_denoised_acompcor_no_smooth.npy')\n",
    "\n",
    "dual = np.asarray([\n",
    "                   [dual_power, 'dual_power'], \n",
    "                   [dual_schaefer, 'dual_schaefer']])\n",
    "rest = np.asarray([\n",
    "                    [rest_power, 'rest_power'], \n",
    "                    [rest_schaefer, 'rest_chaefer']])"
   ]
  },
  {
   "cell_type": "markdown",
   "metadata": {},
   "source": [
    "Step 3: Calculating correlation matrices - resting-state\n",
    "-------------------------"
   ]
  },
  {
   "cell_type": "code",
   "execution_count": 7,
   "metadata": {},
   "outputs": [
    {
     "name": "stderr",
     "output_type": "stream",
     "text": [
      "/home/finc/anaconda/lib/python3.6/site-packages/nilearn/connectome/connectivity_matrices.py:359: RuntimeWarning: divide by zero encountered in true_divide\n",
      "  diagonal = np.atleast_2d(1. / np.sqrt(np.diag(covariance)))\n",
      "/home/finc/anaconda/lib/python3.6/site-packages/nilearn/connectome/connectivity_matrices.py:360: RuntimeWarning: invalid value encountered in multiply\n",
      "  correlation = covariance * diagonal * diagonal.T\n",
      "/home/finc/anaconda/lib/python3.6/site-packages/nilearn/connectome/connectivity_matrices.py:359: RuntimeWarning: divide by zero encountered in true_divide\n",
      "  diagonal = np.atleast_2d(1. / np.sqrt(np.diag(covariance)))\n",
      "/home/finc/anaconda/lib/python3.6/site-packages/nilearn/connectome/connectivity_matrices.py:360: RuntimeWarning: invalid value encountered in multiply\n",
      "  correlation = covariance * diagonal * diagonal.T\n"
     ]
    },
    {
     "name": "stdout",
     "output_type": "stream",
     "text": [
      "(46, 4, 300, 300)\n"
     ]
    }
   ],
   "source": [
    "from sklearn.covariance import EmpiricalCovariance\n",
    "\n",
    "for p in range(rest.shape[0]):\n",
    "\n",
    "    data = rest[p,0]\n",
    "    sub_n = len(data[:, 0, 0, 0])\n",
    "    ses_n = len(data[0, :, 0, 0])\n",
    "    rois_n = len(data[0, 0, 0, :])\n",
    "\n",
    "    correlation_matrices = np.zeros((sub_n, \n",
    "                                     ses_n, \n",
    "                                     #len(cond), \n",
    "                                     rois_n, rois_n))\n",
    "\n",
    "    for sub in range(sub_n):\n",
    "        for ses in range(ses_n):                 \n",
    "            correlation_measure = ConnectivityMeasure(cov_estimator=EmpiricalCovariance(store_precision=True, assume_centered=False), kind = 'correlation', discard_diagonal=True)\n",
    "\n",
    "            timeseries_dual = data[sub, ses, 0:180, : ] #rect_box_hrf > 0, :]\n",
    "            #timeseries_dual = (timeseries_dual.T * rect_nnz).T\n",
    "\n",
    "            fc = correlation_measure.fit_transform([timeseries_dual])[0]\n",
    "            np.fill_diagonal(fc, 0)\n",
    "\n",
    "            correlation_matrices[sub, ses, :, :] = np.arctanh(fc)\n",
    "\n",
    "    print(correlation_matrices.shape)\n",
    "    np.save(f'{out_dir}static/rest/LB_{rest[p,1]}_static_correlation_matrices.npy', correlation_matrices)\n"
   ]
  },
  {
   "cell_type": "markdown",
   "metadata": {},
   "source": [
    "Step 4: Calculating correlation matrices - dual n-back\n",
    "-------------------------"
   ]
  },
  {
   "cell_type": "code",
   "execution_count": 8,
   "metadata": {},
   "outputs": [
    {
     "name": "stdout",
     "output_type": "stream",
     "text": [
      "Calculating correlations: sub 0\n",
      "Calculating correlations: sub 1\n",
      "Calculating correlations: sub 2\n",
      "Calculating correlations: sub 3\n",
      "Calculating correlations: sub 4\n",
      "Calculating correlations: sub 5\n",
      "Calculating correlations: sub 6\n",
      "Calculating correlations: sub 7\n",
      "Calculating correlations: sub 8\n",
      "Calculating correlations: sub 9\n",
      "Calculating correlations: sub 10\n",
      "Calculating correlations: sub 11\n",
      "Calculating correlations: sub 12\n",
      "Calculating correlations: sub 13\n",
      "Calculating correlations: sub 14\n",
      "Calculating correlations: sub 15\n",
      "Calculating correlations: sub 16\n",
      "Calculating correlations: sub 17\n",
      "Calculating correlations: sub 18\n",
      "Calculating correlations: sub 19\n",
      "Calculating correlations: sub 20\n",
      "Calculating correlations: sub 21\n",
      "Calculating correlations: sub 22\n",
      "Calculating correlations: sub 23\n",
      "Calculating correlations: sub 24\n",
      "Calculating correlations: sub 25\n",
      "Calculating correlations: sub 26\n",
      "Calculating correlations: sub 27\n",
      "Calculating correlations: sub 28\n",
      "Calculating correlations: sub 29\n",
      "Calculating correlations: sub 30\n",
      "Calculating correlations: sub 31\n",
      "Calculating correlations: sub 32\n",
      "Calculating correlations: sub 33\n",
      "Calculating correlations: sub 34\n",
      "Calculating correlations: sub 35\n",
      "Calculating correlations: sub 36\n",
      "Calculating correlations: sub 37\n",
      "Calculating correlations: sub 38\n",
      "Calculating correlations: sub 39\n",
      "Calculating correlations: sub 40\n",
      "Calculating correlations: sub 41\n",
      "Calculating correlations: sub 42\n",
      "Calculating correlations: sub 43\n",
      "Calculating correlations: sub 44\n",
      "Calculating correlations: sub 45\n",
      "(46, 4, 2, 300, 300)\n"
     ]
    }
   ],
   "source": [
    "for p in range(rest.shape[0]):\n",
    "    data = dual[p,0]\n",
    "    \n",
    "    sub_n = len(data[:, 0, 0, 0])\n",
    "    ses_n = len(data[0, :, 0, 0])\n",
    "    cond = ['1-back', '2-back']\n",
    "    rois_n = len(data[0, 0, 0, :])\n",
    "    A = np.zeros((rois_n, rois_n))\n",
    "    correlation_matrices_wei = np.zeros((sub_n, ses_n, len(cond), rois_n, rois_n))\n",
    "\n",
    "\n",
    "    for sub in range(sub_n):\n",
    "        print(f'Calculating correlations: sub {sub}')\n",
    "        for ses in range(ses_n):                 \n",
    "            for con in range(len(cond)):\n",
    "                #--- zeroing negative values\n",
    "                rect_box_hrf = np.array([0 if elem < 0 else elem for elem in box_hrf[cond[con]]])\n",
    "                #--- concatenating nonzeros blocs\n",
    "                rect_nnz = rect_box_hrf[np.nonzero(rect_box_hrf)]\n",
    "                #--- filtering            \n",
    "                timeseries_dual = data[sub, ses, rect_box_hrf > 0, :]\n",
    "                #--- calculating weighted correlation coefficient\n",
    "                for i in range(rois_n):\n",
    "                    for j in range(i):\n",
    "                        if i == j:\n",
    "                            continue\n",
    "                        else:\n",
    "                            A[i, j] = stats.corr_wei(timeseries_dual[:, i], timeseries_dual[:, j], rect_nnz)\n",
    "\n",
    "                fc = A + A.T\n",
    "                correlation_matrices_wei[sub, ses, con, :, :] = np.arctanh(fc)\n",
    "    print(correlation_matrices_wei.shape)\n",
    "    np.save(f'{out_dir}static/dualnback/LB_{dual[p,1]}_static_correlation_matrices.npy', correlation_matrices_wei)"
   ]
  }
 ],
 "metadata": {
  "kernelspec": {
   "display_name": "Python 3",
   "language": "python",
   "name": "python3"
  },
  "language_info": {
   "codemirror_mode": {
    "name": "ipython",
    "version": 3
   },
   "file_extension": ".py",
   "mimetype": "text/x-python",
   "name": "python",
   "nbconvert_exporter": "python",
   "pygments_lexer": "ipython3",
   "version": "3.7.3"
  }
 },
 "nbformat": 4,
 "nbformat_minor": 2
}
